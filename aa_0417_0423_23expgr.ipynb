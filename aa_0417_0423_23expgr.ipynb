{
 "cells": [
  {
   "cell_type": "markdown",
   "metadata": {},
   "source": [
    "# A/B-тесты. Задание 1"
   ]
  },
  {
   "cell_type": "markdown",
   "metadata": {},
   "source": [
    "Добавляем то, что пригодится"
   ]
  },
  {
   "cell_type": "code",
   "execution_count": 1,
   "metadata": {},
   "outputs": [],
   "source": [
    "import pandahouse\n",
    "from scipy import stats\n",
    "import numpy as np\n",
    "import seaborn as sns\n",
    "import matplotlib.pyplot as plt"
   ]
  },
  {
   "cell_type": "markdown",
   "metadata": {},
   "source": [
    "Сформулируем запрос"
   ]
  },
  {
   "cell_type": "code",
   "execution_count": 2,
   "metadata": {},
   "outputs": [],
   "source": [
    "connection = {\n",
    "    'host': 'https://clickhouse.lab.karpov.courses',\n",
    "    'password': 'dpo_python_2020',\n",
    "    'user': 'student',\n",
    "    'database': 'simulator_20220520'\n",
    "}\n",
    "\n",
    "q = 'SELECT \\\n",
    "    user_id, toDate(time) as day,\\\n",
    "    countIf(action=\\'view\\') as views, \\\n",
    "    countIf(action=\\'like\\') as likes, \\\n",
    "    likes / views as ctr, exp_group \\\n",
    "    FROM {db}.feed_actions \\\n",
    "    where (toDate(time) >= \\'2022-04-17\\' and \\\n",
    "    toDate(time) <= \\'2022-04-23\\' and \\\n",
    "    exp_group in (2, 3))\\\n",
    "    group by user_id, day, exp_group\\\n",
    "    order by day, user_id'\n",
    "\n",
    "df = pandahouse.read_clickhouse(q, connection=connection)"
   ]
  },
  {
   "cell_type": "markdown",
   "metadata": {},
   "source": [
    "Посмотрим, что получилось:"
   ]
  },
  {
   "cell_type": "code",
   "execution_count": 3,
   "metadata": {},
   "outputs": [
    {
     "data": {
      "text/html": [
       "<div>\n",
       "<style scoped>\n",
       "    .dataframe tbody tr th:only-of-type {\n",
       "        vertical-align: middle;\n",
       "    }\n",
       "\n",
       "    .dataframe tbody tr th {\n",
       "        vertical-align: top;\n",
       "    }\n",
       "\n",
       "    .dataframe thead th {\n",
       "        text-align: right;\n",
       "    }\n",
       "</style>\n",
       "<table border=\"1\" class=\"dataframe\">\n",
       "  <thead>\n",
       "    <tr style=\"text-align: right;\">\n",
       "      <th></th>\n",
       "      <th>user_id</th>\n",
       "      <th>day</th>\n",
       "      <th>views</th>\n",
       "      <th>likes</th>\n",
       "      <th>ctr</th>\n",
       "      <th>exp_group</th>\n",
       "    </tr>\n",
       "  </thead>\n",
       "  <tbody>\n",
       "    <tr>\n",
       "      <th>0</th>\n",
       "      <td>237</td>\n",
       "      <td>2022-04-17</td>\n",
       "      <td>32</td>\n",
       "      <td>2</td>\n",
       "      <td>0.062500</td>\n",
       "      <td>3</td>\n",
       "    </tr>\n",
       "    <tr>\n",
       "      <th>1</th>\n",
       "      <td>242</td>\n",
       "      <td>2022-04-17</td>\n",
       "      <td>18</td>\n",
       "      <td>4</td>\n",
       "      <td>0.222222</td>\n",
       "      <td>3</td>\n",
       "    </tr>\n",
       "    <tr>\n",
       "      <th>2</th>\n",
       "      <td>271</td>\n",
       "      <td>2022-04-17</td>\n",
       "      <td>33</td>\n",
       "      <td>4</td>\n",
       "      <td>0.121212</td>\n",
       "      <td>2</td>\n",
       "    </tr>\n",
       "    <tr>\n",
       "      <th>3</th>\n",
       "      <td>278</td>\n",
       "      <td>2022-04-17</td>\n",
       "      <td>8</td>\n",
       "      <td>3</td>\n",
       "      <td>0.375000</td>\n",
       "      <td>3</td>\n",
       "    </tr>\n",
       "    <tr>\n",
       "      <th>4</th>\n",
       "      <td>281</td>\n",
       "      <td>2022-04-17</td>\n",
       "      <td>58</td>\n",
       "      <td>12</td>\n",
       "      <td>0.206897</td>\n",
       "      <td>3</td>\n",
       "    </tr>\n",
       "  </tbody>\n",
       "</table>\n",
       "</div>"
      ],
      "text/plain": [
       "   user_id        day  views  likes       ctr  exp_group\n",
       "0      237 2022-04-17     32      2  0.062500          3\n",
       "1      242 2022-04-17     18      4  0.222222          3\n",
       "2      271 2022-04-17     33      4  0.121212          2\n",
       "3      278 2022-04-17      8      3  0.375000          3\n",
       "4      281 2022-04-17     58     12  0.206897          3"
      ]
     },
     "execution_count": 3,
     "metadata": {},
     "output_type": "execute_result"
    }
   ],
   "source": [
    "df.head()"
   ]
  },
  {
   "cell_type": "markdown",
   "metadata": {},
   "source": [
    "На всяки случай, взглянем на количество пользователей в каждой из выбранных групп: необходимо, чтобы разница была незначительной"
   ]
  },
  {
   "cell_type": "code",
   "execution_count": 4,
   "metadata": {},
   "outputs": [
    {
     "data": {
      "text/plain": [
       "3    17232\n",
       "2    16905\n",
       "Name: exp_group, dtype: int64"
      ]
     },
     "execution_count": 4,
     "metadata": {},
     "output_type": "execute_result"
    }
   ],
   "source": [
    "df['exp_group'].value_counts()"
   ]
  },
  {
   "cell_type": "markdown",
   "metadata": {},
   "source": [
    "Зададим количество экспериментов и число пользователей в каждой подвыборке"
   ]
  },
  {
   "cell_type": "code",
   "execution_count": 5,
   "metadata": {},
   "outputs": [],
   "source": [
    "N_EXP = 10000\n",
    "n_count = 500"
   ]
  },
  {
   "cell_type": "markdown",
   "metadata": {},
   "source": [
    "Пусть для каждой группы будет свой датафрейм"
   ]
  },
  {
   "cell_type": "code",
   "execution_count": 6,
   "metadata": {},
   "outputs": [],
   "source": [
    "df_exp2 = df.loc[df['exp_group'] == 2]\n",
    "df_exp3 = df.loc[df['exp_group'] == 3]"
   ]
  },
  {
   "cell_type": "markdown",
   "metadata": {},
   "source": [
    "Запускаем t-тесты"
   ]
  },
  {
   "cell_type": "code",
   "execution_count": 7,
   "metadata": {},
   "outputs": [],
   "source": [
    "t_p_values = np.zeros(N_EXP)\n",
    "for _ in range(N_EXP):\n",
    "    ctr_array2 = df_exp2.sample(n_count)['ctr']    \n",
    "    ctr_array3 = df_exp3.sample(n_count)['ctr']\n",
    "    t_p_values[_] = stats.ttest_ind(ctr_array2, ctr_array3, equal_var=False)[1]"
   ]
  },
  {
   "cell_type": "markdown",
   "metadata": {},
   "source": [
    "Гистограмма полученных p значений"
   ]
  },
  {
   "cell_type": "code",
   "execution_count": 12,
   "metadata": {},
   "outputs": [
    {
     "data": {
      "image/png": "[encoded data removed]",
      "text/plain": [
       "<Figure size 432x288 with 1 Axes>"
      ]
     },
     "metadata": {
      "needs_background": "light"
     },
     "output_type": "display_data"
    }
   ],
   "source": [
    "sns.histplot(t_p_values)\n",
    "plt.title('p-values histogram')\n",
    "plt.show()"
   ]
  },
  {
   "cell_type": "markdown",
   "metadata": {},
   "source": [
    "Проверим, какой процент случаев дает статистически значимые различия:"
   ]
  },
  {
   "cell_type": "code",
   "execution_count": 13,
   "metadata": {},
   "outputs": [
    {
     "name": "stdout",
     "output_type": "stream",
     "text": [
      "В 4.92% случаев p <= 0.05\n"
     ]
    }
   ],
   "source": [
    "invalid_p_rate = (np.sum([abs(t_p_values) <= 0.05]) / N_EXP) * 100\n",
    "print(f'В {invalid_p_rate:.2f}% случаев p <= 0.05')"
   ]
  },
  {
   "cell_type": "markdown",
   "metadata": {},
   "source": [
    "Менее, чем в 5% случаев. На границе. "
   ]
  },
  {
   "cell_type": "code",
   "execution_count": null,
   "metadata": {},
   "outputs": [],
   "source": []
  }
 ],
 "metadata": {
  "kernelspec": {
   "display_name": "Python 3",
   "language": "python",
   "name": "python3"
  },
  "language_info": {
   "codemirror_mode": {
    "name": "ipython",
    "version": 3
   },
   "file_extension": ".py",
   "mimetype": "text/x-python",
   "name": "python",
   "nbconvert_exporter": "python",
   "pygments_lexer": "ipython3",
   "version": "3.7.3"
  }
 },
 "nbformat": 4,
 "nbformat_minor": 4
}
